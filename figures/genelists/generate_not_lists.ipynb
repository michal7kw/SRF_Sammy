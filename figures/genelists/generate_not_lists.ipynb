{
 "cells": [
  {
   "cell_type": "code",
   "execution_count": 13,
   "metadata": {},
   "outputs": [],
   "source": [
    "import os\n",
    "import re"
   ]
  },
  {
   "cell_type": "code",
   "execution_count": null,
   "metadata": {},
   "outputs": [],
   "source": [
    "GTF_FILE = \"/beegfs/scratch/ric.broccoli/kubacki.michal/SRF_Sammy/DATA/gencode.vM25.basic.annotation.gtf\"\n",
    "CURRENT_DIR = \"/beegfs/scratch/ric.broccoli/kubacki.michal/SRF_Sammy/figures/genelists\""
   ]
  },
  {
   "cell_type": "code",
   "execution_count": 20,
   "metadata": {},
   "outputs": [],
   "source": [
    "def read_gene_list(file_path):\n",
    "    \"\"\"Read gene list from a file, one gene per line.\"\"\"\n",
    "    with open(file_path, 'r') as f:\n",
    "        return set(line.strip() for line in f if line.strip())\n",
    "\n",
    "def is_valid_gene_name(gene_name):\n",
    "    \"\"\"\n",
    "    Check if a gene name is valid based on common naming conventions.\n",
    "    \n",
    "    Valid gene names typically:\n",
    "    - Start with a letter (not a number)\n",
    "    - Don't contain special characters except hyphens and dots\n",
    "    - Are not too short (at least 2 characters)\n",
    "    - Are not temporary/predicted IDs (like ENSMUSG...)\n",
    "    \"\"\"\n",
    "    # Skip very short names\n",
    "    if len(gene_name) < 2:\n",
    "        return False\n",
    "    \n",
    "    # Skip names that start with numbers (like 0610005C13Rik)\n",
    "    if gene_name[0].isdigit():\n",
    "        return False\n",
    "    \n",
    "    # Skip Ensembl IDs\n",
    "    if gene_name.startswith(('ENSMUSG', 'ENSMUST')):\n",
    "        return False\n",
    "    \n",
    "    # Skip names with unusual characters\n",
    "    if not re.match(r'^[A-Za-z0-9\\.\\-_]+$', gene_name):\n",
    "        return False\n",
    "\n",
    "    # Skip mitochondrial genes\n",
    "    if gene_name.startswith('mt-'):\n",
    "        return False\n",
    "    \n",
    "    return True\n",
    "\n",
    "def extract_genes_from_gtf(gtf_file):\n",
    "    \"\"\"Extract canonical gene names from GTF file.\"\"\"\n",
    "    genes = set()\n",
    "    gene_name_pattern = re.compile(r'gene_name \"([^\"]+)\"')\n",
    "    gene_type_pattern = re.compile(r'gene_type \"([^\"]+)\"')\n",
    "    \n",
    "    # Gene types to include (protein-coding genes and well-characterized non-coding genes)\n",
    "    valid_gene_types = {\n",
    "        'protein_coding', \n",
    "        'lincRNA', \n",
    "        'antisense', \n",
    "        'processed_transcript'\n",
    "    }\n",
    "    \n",
    "    print(f\"Parsing GTF file: {gtf_file}\")\n",
    "    with open(gtf_file, 'r') as f:\n",
    "        for i, line in enumerate(f):\n",
    "            if line.startswith('#'):\n",
    "                continue\n",
    "            \n",
    "            # Only process gene entries, not transcripts/exons\n",
    "            fields = line.split('\\t')\n",
    "            if len(fields) >= 3 and fields[2] == 'gene':\n",
    "                \n",
    "                # Check gene type\n",
    "                gene_type_match = gene_type_pattern.search(line)\n",
    "                if gene_type_match:\n",
    "                    gene_type = gene_type_match.group(1)\n",
    "                    if gene_type not in valid_gene_types:\n",
    "                        continue\n",
    "                \n",
    "                # Extract gene name\n",
    "                match = gene_name_pattern.search(line)\n",
    "                if match:\n",
    "                    gene_name = match.group(1)\n",
    "                    if is_valid_gene_name(gene_name):\n",
    "                        genes.add(gene_name)\n",
    "            \n",
    "            if i % 100000 == 0:\n",
    "                print(f\"Processed {i} lines...\")\n",
    "    \n",
    "    return genes\n",
    "\n",
    "def create_not_list(all_genes, genes_in_list):\n",
    "    \"\"\"Create a list of genes not in the specified list.\"\"\"\n",
    "    return all_genes - genes_in_list\n",
    "\n",
    "def write_gene_list(genes, output_file):\n",
    "    \"\"\"Write gene list to a file, one gene per line.\"\"\"\n",
    "    with open(output_file, 'w') as f:\n",
    "        for gene in sorted(genes):\n",
    "            f.write(f\"{gene}\\n\")"
   ]
  },
  {
   "cell_type": "markdown",
   "metadata": {},
   "source": [
    "## NEU_exo"
   ]
  },
  {
   "cell_type": "code",
   "execution_count": null,
   "metadata": {},
   "outputs": [],
   "source": [
    "ENDO_FILE = os.path.join(CURRENT_DIR, \"NEU_exo.txt\")\n",
    "NOT_ENDO_FILE = os.path.join(CURRENT_DIR, \"not_NEU_exo.txt.txt\")\n"
   ]
  },
  {
   "cell_type": "code",
   "execution_count": 21,
   "metadata": {},
   "outputs": [
    {
     "name": "stdout",
     "output_type": "stream",
     "text": [
      "Reading gene list from /beegfs/scratch/ric.broccoli/kubacki.michal/SRF_Sammy/figures/genelists/NEU_exo.txt\n",
      "Found 793 genes in endo list\n"
     ]
    }
   ],
   "source": [
    "# Read endo gene list\n",
    "print(f\"Reading gene list from {ENDO_FILE}\")\n",
    "endo_genes = read_gene_list(ENDO_FILE)\n",
    "print(f\"Found {len(endo_genes)} genes in endo list\")"
   ]
  },
  {
   "cell_type": "code",
   "execution_count": 22,
   "metadata": {},
   "outputs": [
    {
     "name": "stdout",
     "output_type": "stream",
     "text": [
      "Parsing GTF file: /beegfs/scratch/ric.broccoli/kubacki.michal/SRF_Sammy/DATA/gencode.vM25.basic.annotation.gtf\n",
      "Processed 100000 lines...\n",
      "Processed 200000 lines...\n",
      "Processed 300000 lines...\n",
      "Processed 400000 lines...\n",
      "Processed 500000 lines...\n",
      "Processed 600000 lines...\n",
      "Processed 700000 lines...\n",
      "Processed 800000 lines...\n",
      "Processed 900000 lines...\n",
      "Processed 1000000 lines...\n",
      "Processed 1100000 lines...\n",
      "Processed 1200000 lines...\n",
      "Processed 1300000 lines...\n",
      "Found 29317 total genes in GTF file\n"
     ]
    }
   ],
   "source": [
    "# Extract all genes from GTF\n",
    "all_genes = extract_genes_from_gtf(GTF_FILE)\n",
    "print(f\"Found {len(all_genes)} total genes in GTF file\")"
   ]
  },
  {
   "cell_type": "code",
   "execution_count": 23,
   "metadata": {},
   "outputs": [
    {
     "name": "stdout",
     "output_type": "stream",
     "text": [
      "Generated 28552 genes for not_endo list\n"
     ]
    }
   ],
   "source": [
    "# Create not_endo list\n",
    "not_endo_genes = create_not_list(all_genes, endo_genes)\n",
    "print(f\"Generated {len(not_endo_genes)} genes for not_endo list\")"
   ]
  },
  {
   "cell_type": "code",
   "execution_count": 24,
   "metadata": {},
   "outputs": [
    {
     "name": "stdout",
     "output_type": "stream",
     "text": [
      "Wrote not_endo list to /beegfs/scratch/ric.broccoli/kubacki.michal/SRF_Sammy/figures/genelists/not_NEU_exo.txt.txt\n"
     ]
    }
   ],
   "source": [
    "# Write not_endo list to file\n",
    "write_gene_list(not_endo_genes, NOT_ENDO_FILE)\n",
    "print(f\"Wrote not_endo list to {NOT_ENDO_FILE}\")"
   ]
  },
  {
   "cell_type": "markdown",
   "metadata": {},
   "source": [
    "## NSC"
   ]
  },
  {
   "cell_type": "code",
   "execution_count": 28,
   "metadata": {},
   "outputs": [],
   "source": [
    "ENDO_FILE = os.path.join(CURRENT_DIR, \"NSC_exo.txt\")\n",
    "NOT_ENDO_FILE = os.path.join(CURRENT_DIR, \"not_NSC_exo.txt\")"
   ]
  },
  {
   "cell_type": "code",
   "execution_count": 29,
   "metadata": {},
   "outputs": [
    {
     "name": "stdout",
     "output_type": "stream",
     "text": [
      "Reading gene list from /beegfs/scratch/ric.broccoli/kubacki.michal/SRF_Sammy/figures/genelists/NSC_exo.txt\n",
      "Found 2351 genes in endo list\n",
      "Parsing GTF file: /beegfs/scratch/ric.broccoli/kubacki.michal/SRF_Sammy/DATA/gencode.vM25.basic.annotation.gtf\n",
      "Processed 100000 lines...\n",
      "Processed 200000 lines...\n",
      "Processed 300000 lines...\n",
      "Processed 400000 lines...\n",
      "Processed 500000 lines...\n",
      "Processed 600000 lines...\n",
      "Processed 700000 lines...\n",
      "Processed 800000 lines...\n",
      "Processed 900000 lines...\n",
      "Processed 1000000 lines...\n",
      "Processed 1100000 lines...\n",
      "Processed 1200000 lines...\n",
      "Processed 1300000 lines...\n",
      "Found 29317 valid canonical genes in GTF file\n",
      "Generated 27041 genes for not_endo list\n",
      "Wrote not_endo list to /beegfs/scratch/ric.broccoli/kubacki.michal/SRF_Sammy/figures/genelists/not_NSC_exo.txt\n"
     ]
    }
   ],
   "source": [
    "# Read endo gene list\n",
    "print(f\"Reading gene list from {ENDO_FILE}\")\n",
    "endo_genes = read_gene_list(ENDO_FILE)\n",
    "print(f\"Found {len(endo_genes)} genes in endo list\")\n",
    "\n",
    "# Extract all genes from GTF\n",
    "all_genes = extract_genes_from_gtf(GTF_FILE)\n",
    "print(f\"Found {len(all_genes)} valid canonical genes in GTF file\")\n",
    "\n",
    "# Create not_endo list\n",
    "not_endo_genes = create_not_list(all_genes, endo_genes)\n",
    "print(f\"Generated {len(not_endo_genes)} genes for not_endo list\")\n",
    "\n",
    "# Write not_endo list to file\n",
    "write_gene_list(not_endo_genes, NOT_ENDO_FILE)\n",
    "print(f\"Wrote not_endo list to {NOT_ENDO_FILE}\")"
   ]
  },
  {
   "cell_type": "code",
   "execution_count": null,
   "metadata": {},
   "outputs": [],
   "source": []
  }
 ],
 "metadata": {
  "kernelspec": {
   "display_name": "Python (snakemake)",
   "language": "python",
   "name": "snakemake"
  },
  "language_info": {
   "codemirror_mode": {
    "name": "ipython",
    "version": 3
   },
   "file_extension": ".py",
   "mimetype": "text/x-python",
   "name": "python",
   "nbconvert_exporter": "python",
   "pygments_lexer": "ipython3",
   "version": "3.11.9"
  }
 },
 "nbformat": 4,
 "nbformat_minor": 2
}
