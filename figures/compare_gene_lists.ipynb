{
 "cells": [
  {
   "cell_type": "code",
   "execution_count": 24,
   "metadata": {},
   "outputs": [],
   "source": [
    "import sys\n",
    "import os"
   ]
  },
  {
   "cell_type": "code",
   "execution_count": 25,
   "metadata": {},
   "outputs": [],
   "source": [
    "def read_list_file(filename):\n",
    "    \"\"\"Read a list file and return its contents as a set.\"\"\"\n",
    "    if not os.path.exists(filename):\n",
    "        print(f\"Error: File '{filename}' does not exist.\")\n",
    "        sys.exit(1)\n",
    "    \n",
    "    with open(filename, 'r') as f:\n",
    "        # Strip whitespace and filter out empty lines\n",
    "        return {line.strip() for line in f if line.strip()}"
   ]
  },
  {
   "cell_type": "code",
   "execution_count": 26,
   "metadata": {},
   "outputs": [],
   "source": [
    "path1 =  \"/beegfs/scratch/ric.broccoli/kubacki.michal/SRF_Sammy/figures/genelists/\"\n",
    "file1_names = [\"endo.txt\", \"NEU_exo.txt\", \"NSC_exo.txt\"]\n",
    "file1 = [\n",
    "        f\"{path1}{file1_name}\" for file1_name in file1_names\n",
    "]\n",
    "\n",
    "path2 = \"/beegfs/scratch/ric.broccoli/kubacki.michal/SRF_Sammy/gene_lists/\"\n",
    "file2_names = [\"endo_enriched_gene_list_nsc_vs_neu.txt\", \"nsc_enriched_gene_list_exo_vs_endo.txt\", \"neu_enriched_gene_list_exo_vs_endo.txt\"]\n",
    "file2 = [\n",
    "    f\"{path2}{file2_name}\" for file2_name in file2_names\n",
    "]"
   ]
  },
  {
   "cell_type": "code",
   "execution_count": 27,
   "metadata": {},
   "outputs": [
    {
     "name": "stdout",
     "output_type": "stream",
     "text": [
      "\n",
      "Comparison between 'endo.txt' and 'endo_enriched_gene_list_nsc_vs_neu.txt':\n",
      "Total items in 'endo.txt': 4405\n",
      "Total items in 'endo_enriched_gene_list_nsc_vs_neu.txt': 4979\n",
      "Items in both lists: 4403\n",
      "\n",
      "Percentage of 'endo.txt' items in 'endo_enriched_gene_list_nsc_vs_neu.txt': 99.95%\n",
      "Percentage of 'endo_enriched_gene_list_nsc_vs_neu.txt' items in 'endo.txt': 88.43%\n",
      "#############################################################################\n",
      "\n",
      "Comparison between 'NEU_exo.txt' and 'nsc_enriched_gene_list_exo_vs_endo.txt':\n",
      "Total items in 'NEU_exo.txt': 793\n",
      "Total items in 'nsc_enriched_gene_list_exo_vs_endo.txt': 2425\n",
      "Items in both lists: 186\n",
      "\n",
      "Percentage of 'NEU_exo.txt' items in 'nsc_enriched_gene_list_exo_vs_endo.txt': 23.46%\n",
      "Percentage of 'nsc_enriched_gene_list_exo_vs_endo.txt' items in 'NEU_exo.txt': 7.67%\n",
      "#############################################################################\n",
      "\n",
      "Comparison between 'NSC_exo.txt' and 'neu_enriched_gene_list_exo_vs_endo.txt':\n",
      "Total items in 'NSC_exo.txt': 793\n",
      "Total items in 'neu_enriched_gene_list_exo_vs_endo.txt': 820\n",
      "Items in both lists: 793\n",
      "\n",
      "Percentage of 'NSC_exo.txt' items in 'neu_enriched_gene_list_exo_vs_endo.txt': 100.00%\n",
      "Percentage of 'neu_enriched_gene_list_exo_vs_endo.txt' items in 'NSC_exo.txt': 96.71%\n",
      "#############################################################################\n"
     ]
    }
   ],
   "source": [
    "for i, (file1_name, file2_name) in enumerate(zip(file1, file2)):\n",
    "    list1 = read_list_file(file1_name)\n",
    "    list2 = read_list_file(file2_name)\n",
    "\n",
    "    # Items in both lists\n",
    "    common = list1.intersection(list2)\n",
    "\n",
    "    # Items unique to each list\n",
    "    only_in_list1 = list1 - list2\n",
    "    only_in_list2 = list2 - list1\n",
    "\n",
    "    results = {\n",
    "        'common': common,\n",
    "        'only_in_list1': only_in_list1,\n",
    "        'only_in_list2': only_in_list2,\n",
    "        'list1_count': len(list1),\n",
    "        'list2_count': len(list2),\n",
    "        'common_count': len(common)\n",
    "    }\n",
    "\n",
    "    \"\"\"Print the comparison results in a readable format.\"\"\"\n",
    "    print(f\"\\nComparison between '{file1_names[i]}' and '{file2_names[i]}':\")\n",
    "    print(f\"Total items in '{file1_names[i]}': {results['list1_count']}\")\n",
    "    print(f\"Total items in '{file2_names[i]}': {results['list2_count']}\")\n",
    "    print(f\"Items in both lists: {results['common_count']}\")\n",
    "\n",
    "    print(f\"\\nPercentage of '{file1_names[i]}' items in '{file2_names[i]}': \"\n",
    "            f\"{results['common_count'] / results['list1_count'] * 100:.2f}%\")\n",
    "    print(f\"Percentage of '{file2_names[i]}' items in '{file1_names[i]}': \"\n",
    "            f\"{results['common_count'] / results['list2_count'] * 100:.2f}%\")\n",
    "    \n",
    "    print(\"#############################################################################\")"
   ]
  }
 ],
 "metadata": {
  "kernelspec": {
   "display_name": "Python (snakemake)",
   "language": "python",
   "name": "snakemake"
  },
  "language_info": {
   "codemirror_mode": {
    "name": "ipython",
    "version": 3
   },
   "file_extension": ".py",
   "mimetype": "text/x-python",
   "name": "python",
   "nbconvert_exporter": "python",
   "pygments_lexer": "ipython3",
   "version": "3.11.11"
  }
 },
 "nbformat": 4,
 "nbformat_minor": 2
}
